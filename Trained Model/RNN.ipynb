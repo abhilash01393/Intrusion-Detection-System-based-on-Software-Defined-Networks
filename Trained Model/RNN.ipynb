{
 "cells": [
  {
   "cell_type": "code",
   "execution_count": 4,
   "metadata": {},
   "outputs": [],
   "source": [
    "import numpy as np\n",
    "import matplotlib.pyplot as plt\n",
    "import pandas as pd\n"
   ]
  },
  {
   "cell_type": "code",
   "execution_count": 5,
   "metadata": {},
   "outputs": [],
   "source": [
    "# Importing the dataset\n",
    "dataset = pd.read_csv('Dataset.csv')\n",
    "\n",
    "X_ = dataset.iloc[:, dataset.columns != 'label']\n",
    "y = dataset.iloc[:, dataset.columns == 'label']"
   ]
  },
  {
   "cell_type": "code",
   "execution_count": 6,
   "metadata": {},
   "outputs": [
    {
     "data": {
      "text/html": [
       "<div>\n",
       "<style scoped>\n",
       "    .dataframe tbody tr th:only-of-type {\n",
       "        vertical-align: middle;\n",
       "    }\n",
       "\n",
       "    .dataframe tbody tr th {\n",
       "        vertical-align: top;\n",
       "    }\n",
       "\n",
       "    .dataframe thead th {\n",
       "        text-align: right;\n",
       "    }\n",
       "</style>\n",
       "<table border=\"1\" class=\"dataframe\">\n",
       "  <thead>\n",
       "    <tr style=\"text-align: right;\">\n",
       "      <th></th>\n",
       "      <th>SSIP</th>\n",
       "      <th>Stdevpack</th>\n",
       "      <th>Stdevbyte</th>\n",
       "      <th>NbFlow</th>\n",
       "      <th>NbIntFlow</th>\n",
       "    </tr>\n",
       "  </thead>\n",
       "  <tbody>\n",
       "    <tr>\n",
       "      <th>count</th>\n",
       "      <td>4000.000000</td>\n",
       "      <td>4000.000000</td>\n",
       "      <td>4000.000000</td>\n",
       "      <td>4000.000000</td>\n",
       "      <td>4000.000000</td>\n",
       "    </tr>\n",
       "    <tr>\n",
       "      <th>mean</th>\n",
       "      <td>26.869750</td>\n",
       "      <td>0.499355</td>\n",
       "      <td>208.304122</td>\n",
       "      <td>33.228000</td>\n",
       "      <td>0.757575</td>\n",
       "    </tr>\n",
       "    <tr>\n",
       "      <th>std</th>\n",
       "      <td>18.847429</td>\n",
       "      <td>0.303311</td>\n",
       "      <td>127.562454</td>\n",
       "      <td>14.542606</td>\n",
       "      <td>0.242470</td>\n",
       "    </tr>\n",
       "    <tr>\n",
       "      <th>min</th>\n",
       "      <td>10.000000</td>\n",
       "      <td>0.000000</td>\n",
       "      <td>0.000000</td>\n",
       "      <td>20.000000</td>\n",
       "      <td>0.500000</td>\n",
       "    </tr>\n",
       "    <tr>\n",
       "      <th>25%</th>\n",
       "      <td>12.000000</td>\n",
       "      <td>0.450748</td>\n",
       "      <td>101.220672</td>\n",
       "      <td>25.000000</td>\n",
       "      <td>0.516129</td>\n",
       "    </tr>\n",
       "    <tr>\n",
       "      <th>50%</th>\n",
       "      <td>26.500000</td>\n",
       "      <td>0.450748</td>\n",
       "      <td>259.841084</td>\n",
       "      <td>33.000000</td>\n",
       "      <td>0.758065</td>\n",
       "    </tr>\n",
       "    <tr>\n",
       "      <th>75%</th>\n",
       "      <td>41.000000</td>\n",
       "      <td>0.648886</td>\n",
       "      <td>328.038905</td>\n",
       "      <td>41.000000</td>\n",
       "      <td>1.000000</td>\n",
       "    </tr>\n",
       "    <tr>\n",
       "      <th>max</th>\n",
       "      <td>801.000000</td>\n",
       "      <td>15.304230</td>\n",
       "      <td>2581.712260</td>\n",
       "      <td>801.000000</td>\n",
       "      <td>1.000000</td>\n",
       "    </tr>\n",
       "  </tbody>\n",
       "</table>\n",
       "</div>"
      ],
      "text/plain": [
       "              SSIP    Stdevpack    Stdevbyte       NbFlow    NbIntFlow\n",
       "count  4000.000000  4000.000000  4000.000000  4000.000000  4000.000000\n",
       "mean     26.869750     0.499355   208.304122    33.228000     0.757575\n",
       "std      18.847429     0.303311   127.562454    14.542606     0.242470\n",
       "min      10.000000     0.000000     0.000000    20.000000     0.500000\n",
       "25%      12.000000     0.450748   101.220672    25.000000     0.516129\n",
       "50%      26.500000     0.450748   259.841084    33.000000     0.758065\n",
       "75%      41.000000     0.648886   328.038905    41.000000     1.000000\n",
       "max     801.000000    15.304230  2581.712260   801.000000     1.000000"
      ]
     },
     "execution_count": 6,
     "metadata": {},
     "output_type": "execute_result"
    }
   ],
   "source": [
    "X_.describe()"
   ]
  },
  {
   "cell_type": "code",
   "execution_count": 7,
   "metadata": {},
   "outputs": [],
   "source": [
    "from sklearn import preprocessing\n",
    "\n",
    "X = X_.values #returns a numpy array\n",
    "min_max_scaler = preprocessing.MinMaxScaler()\n",
    "x_scaled = min_max_scaler.fit_transform(X)\n",
    "X_Scaled = pd.DataFrame(x_scaled)"
   ]
  },
  {
   "cell_type": "code",
   "execution_count": 8,
   "metadata": {},
   "outputs": [],
   "source": [
    "from sklearn.model_selection import train_test_split\n",
    "X_train, X_test, y_train, y_test = train_test_split(X_, y, test_size=0.2, random_state=0)"
   ]
  },
  {
   "cell_type": "code",
   "execution_count": 10,
   "metadata": {},
   "outputs": [
    {
     "name": "stdout",
     "output_type": "stream",
     "text": [
      "_________________________________________________________________\n",
      "Layer (type)                 Output Shape              Param #   \n",
      "=================================================================\n",
      "dense_1 (Dense)              (None, 5)                 30        \n",
      "_________________________________________________________________\n",
      "dropout_1 (Dropout)          (None, 5)                 0         \n",
      "_________________________________________________________________\n",
      "dense_2 (Dense)              (None, 10)                60        \n",
      "_________________________________________________________________\n",
      "dropout_2 (Dropout)          (None, 10)                0         \n",
      "_________________________________________________________________\n",
      "dense_3 (Dense)              (None, 10)                110       \n",
      "_________________________________________________________________\n",
      "dropout_3 (Dropout)          (None, 10)                0         \n",
      "_________________________________________________________________\n",
      "dense_4 (Dense)              (None, 10)                110       \n",
      "_________________________________________________________________\n",
      "dense_5 (Dense)              (None, 1)                 11        \n",
      "=================================================================\n",
      "Total params: 321\n",
      "Trainable params: 321\n",
      "Non-trainable params: 0\n",
      "_________________________________________________________________\n",
      "Train on 3200 samples, validate on 800 samples\n",
      "Epoch 1/50\n",
      "3200/3200 [==============================] - 2s 534us/step - loss: 4.6013 - acc: 0.4900 - val_loss: 0.1767 - val_acc: 1.0000\n",
      "Epoch 2/50\n",
      "3200/3200 [==============================] - 1s 212us/step - loss: 1.5966 - acc: 0.6263 - val_loss: 0.0863 - val_acc: 1.0000\n",
      "Epoch 3/50\n",
      "3200/3200 [==============================] - 1s 219us/step - loss: 0.4221 - acc: 0.7800 - val_loss: 0.1467 - val_acc: 1.0000\n",
      "Epoch 4/50\n",
      "3200/3200 [==============================] - 1s 213us/step - loss: 0.3499 - acc: 0.8087 - val_loss: 0.1110 - val_acc: 1.0000\n",
      "Epoch 5/50\n",
      "3200/3200 [==============================] - 1s 206us/step - loss: 0.3237 - acc: 0.8297 - val_loss: 0.0773 - val_acc: 1.0000\n",
      "Epoch 6/50\n",
      "3200/3200 [==============================] - 1s 231us/step - loss: 0.2852 - acc: 0.8553 - val_loss: 0.0417 - val_acc: 1.0000\n",
      "Epoch 7/50\n",
      "3200/3200 [==============================] - 1s 234us/step - loss: 0.2567 - acc: 0.8694 - val_loss: 0.0290 - val_acc: 1.0000\n",
      "Epoch 8/50\n",
      "3200/3200 [==============================] - 1s 238us/step - loss: 0.2392 - acc: 0.8881 - val_loss: 0.0241 - val_acc: 1.0000\n",
      "Epoch 9/50\n",
      "3200/3200 [==============================] - 1s 223us/step - loss: 0.2323 - acc: 0.8791 - val_loss: 0.0137 - val_acc: 1.0000\n",
      "Epoch 10/50\n",
      "3200/3200 [==============================] - 1s 241us/step - loss: 0.2053 - acc: 0.9012 - val_loss: 0.0041 - val_acc: 1.0000\n",
      "Epoch 11/50\n",
      "3200/3200 [==============================] - 1s 237us/step - loss: 0.1815 - acc: 0.9122 - val_loss: 0.0050 - val_acc: 1.0000\n",
      "Epoch 12/50\n",
      "3200/3200 [==============================] - 1s 263us/step - loss: 0.1641 - acc: 0.9172 - val_loss: 3.7080e-04 - val_acc: 1.0000\n",
      "Epoch 13/50\n",
      "3200/3200 [==============================] - 1s 221us/step - loss: 0.1745 - acc: 0.9116 - val_loss: 5.5378e-04 - val_acc: 1.0000\n",
      "Epoch 14/50\n",
      "3200/3200 [==============================] - 1s 252us/step - loss: 0.1644 - acc: 0.9181 - val_loss: 0.0012 - val_acc: 1.0000\n",
      "Epoch 15/50\n",
      "3200/3200 [==============================] - 1s 272us/step - loss: 0.1602 - acc: 0.9156 - val_loss: 3.0212e-04 - val_acc: 1.0000\n",
      "Epoch 16/50\n",
      "3200/3200 [==============================] - 1s 283us/step - loss: 0.1590 - acc: 0.9181 - val_loss: 1.1197e-04 - val_acc: 1.0000\n",
      "Epoch 17/50\n",
      "3200/3200 [==============================] - 1s 269us/step - loss: 0.1463 - acc: 0.9291 - val_loss: 2.1624e-04 - val_acc: 1.0000\n",
      "Epoch 18/50\n",
      "3200/3200 [==============================] - 1s 271us/step - loss: 0.1464 - acc: 0.9253 - val_loss: 1.2083e-04 - val_acc: 1.0000\n",
      "Epoch 19/50\n",
      "3200/3200 [==============================] - 1s 243us/step - loss: 0.1615 - acc: 0.9131 - val_loss: 9.0405e-04 - val_acc: 1.0000\n",
      "Test-Accuracy: 1.0\n"
     ]
    }
   ],
   "source": [
    "from keras.utils import to_categorical\n",
    "from keras import models\n",
    "from keras import layers\n",
    "from keras.datasets import imdb\n",
    "from keras.callbacks import EarlyStopping\n",
    "\n",
    "test_x = X_test \n",
    "test_y = y_test\n",
    "train_x = X_train\n",
    "train_y = y_train\n",
    "early_stopping_monitor = EarlyStopping(patience=3)\n",
    "\n",
    "model = models.Sequential()\n",
    "# Input - Layer\n",
    "model.add(layers.Dense(5, activation = \"relu\", input_shape=(5, )))\n",
    "# Hidden - Layers\n",
    "model.add(layers.Dropout(0.3, noise_shape=None, seed=None))\n",
    "model.add(layers.Dense(10, activation = \"relu\"))\n",
    "model.add(layers.Dropout(0.5, noise_shape=None, seed=None))\n",
    "model.add(layers.Dense(10, activation = \"relu\"))\n",
    "model.add(layers.Dropout(0.2, noise_shape=None, seed=None))\n",
    "model.add(layers.Dense(10, activation = \"relu\"))\n",
    "# Output- Layer\n",
    "model.add(layers.Dense(1, activation = \"sigmoid\"))\n",
    "model.summary()\n",
    "# compiling the model\n",
    "model.compile(\n",
    " optimizer = \"adam\",\n",
    " loss = \"binary_crossentropy\",\n",
    " metrics = [\"accuracy\"]\n",
    ")\n",
    "results = model.fit(\n",
    " train_x, train_y,\n",
    " epochs= 50,\n",
    " batch_size = 10,\n",
    " validation_data = (test_x, test_y),callbacks=[early_stopping_monitor]\n",
    ")\n",
    "print(\"Test-Accuracy:\", np.mean(results.history[\"val_acc\"]))"
   ]
  },
  {
   "cell_type": "code",
   "execution_count": 12,
   "metadata": {},
   "outputs": [
    {
     "data": {
      "text/plain": [
       "['RNN.sav']"
      ]
     },
     "execution_count": 12,
     "metadata": {},
     "output_type": "execute_result"
    }
   ],
   "source": [
    "from sklearn.externals import joblib\n",
    "filename = 'RNN.sav'\n",
    "joblib.dump(model, filename)"
   ]
  },
  {
   "cell_type": "code",
   "execution_count": 11,
   "metadata": {},
   "outputs": [
    {
     "name": "stdout",
     "output_type": "stream",
     "text": [
      "Recall:  1.0\n",
      "Accuracy 1.0\n"
     ]
    }
   ],
   "source": [
    "from sklearn.metrics import confusion_matrix,precision_recall_curve,auc,roc_auc_score,roc_curve,recall_score,classification_report,accuracy_score \n",
    "y_pred = model.predict(X_test.values)\n",
    "y_pred = y_pred > 0.5\n",
    "\n",
    "cnf_matrix = confusion_matrix(y_test,y_pred)\n",
    "print(\"Recall: \", cnf_matrix[1,1]/(cnf_matrix[1,0]+cnf_matrix[1,1]))\n",
    "print(\"Accuracy\" ,accuracy_score(y_test,y_pred))\n"
   ]
  },
  {
   "cell_type": "code",
   "execution_count": null,
   "metadata": {},
   "outputs": [],
   "source": []
  }
 ],
 "metadata": {
  "kernelspec": {
   "display_name": "Python 3",
   "language": "python",
   "name": "python3"
  },
  "language_info": {
   "codemirror_mode": {
    "name": "ipython",
    "version": 3
   },
   "file_extension": ".py",
   "mimetype": "text/x-python",
   "name": "python",
   "nbconvert_exporter": "python",
   "pygments_lexer": "ipython3",
   "version": "3.6.5"
  }
 },
 "nbformat": 4,
 "nbformat_minor": 2
}
